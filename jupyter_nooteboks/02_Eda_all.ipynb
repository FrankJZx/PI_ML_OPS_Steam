{
 "cells": [
  {
   "cell_type": "markdown",
   "metadata": {},
   "source": [
    "EDA\n"
   ]
  },
  {
   "cell_type": "markdown",
   "metadata": {},
   "source": [
    "importaciones"
   ]
  },
  {
   "cell_type": "code",
   "execution_count": 36,
   "metadata": {},
   "outputs": [],
   "source": [
    "import pandas as pd \n",
    "import matplotlib.pyplot as plt \n",
    "import seaborn as sns \n",
    "import pyarrow as pa \n",
    "import pyarrow.parquet as pq \n",
    "import warnings"
   ]
  },
  {
   "cell_type": "markdown",
   "metadata": {},
   "source": [
    "importamos los datos y empezamos con el eda\n"
   ]
  },
  {
   "cell_type": "code",
   "execution_count": 37,
   "metadata": {},
   "outputs": [],
   "source": [
    "df_games = pd.read_parquet('../archivos_limpios/games.parquet')\n",
    "\n",
    "df_items = pd.read_parquet('../archivos_limpios/items.parquet')\n",
    "\n",
    "df_reviews = pd.read_parquet('../archivos_limpios/reviews.parquet')"
   ]
  },
  {
   "cell_type": "markdown",
   "metadata": {},
   "source": [
    "empezamos por el de games"
   ]
  },
  {
   "cell_type": "code",
   "execution_count": 38,
   "metadata": {},
   "outputs": [
    {
     "name": "stdout",
     "output_type": "stream",
     "text": [
      "<class 'pandas.core.frame.DataFrame'>\n",
      "Index: 73186 entries, 88310 to 120444\n",
      "Data columns (total 8 columns):\n",
      " #   Column        Non-Null Count  Dtype  \n",
      "---  ------        --------------  -----  \n",
      " 0   genres        73186 non-null  object \n",
      " 1   app_name      73186 non-null  object \n",
      " 2   url           73186 non-null  object \n",
      " 3   release_date  73186 non-null  object \n",
      " 4   reviews_url   73186 non-null  object \n",
      " 5   price         73186 non-null  float64\n",
      " 6   id            73186 non-null  float64\n",
      " 7   developer     73186 non-null  object \n",
      "dtypes: float64(2), object(6)\n",
      "memory usage: 5.0+ MB\n"
     ]
    }
   ],
   "source": [
    "df_games.info()"
   ]
  },
  {
   "cell_type": "code",
   "execution_count": 39,
   "metadata": {},
   "outputs": [
    {
     "data": {
      "text/plain": [
       "genres          0\n",
       "app_name        0\n",
       "url             0\n",
       "release_date    0\n",
       "reviews_url     0\n",
       "price           0\n",
       "id              0\n",
       "developer       0\n",
       "dtype: int64"
      ]
     },
     "execution_count": 39,
     "metadata": {},
     "output_type": "execute_result"
    }
   ],
   "source": [
    "# vemos la cantidad de nulos\n",
    "df_games.isnull().sum()"
   ]
  },
  {
   "cell_type": "code",
   "execution_count": 40,
   "metadata": {},
   "outputs": [
    {
     "data": {
      "text/html": [
       "<div>\n",
       "<style scoped>\n",
       "    .dataframe tbody tr th:only-of-type {\n",
       "        vertical-align: middle;\n",
       "    }\n",
       "\n",
       "    .dataframe tbody tr th {\n",
       "        vertical-align: top;\n",
       "    }\n",
       "\n",
       "    .dataframe thead th {\n",
       "        text-align: right;\n",
       "    }\n",
       "</style>\n",
       "<table border=\"1\" class=\"dataframe\">\n",
       "  <thead>\n",
       "    <tr style=\"text-align: right;\">\n",
       "      <th></th>\n",
       "      <th>genres</th>\n",
       "      <th>app_name</th>\n",
       "      <th>url</th>\n",
       "      <th>release_date</th>\n",
       "      <th>reviews_url</th>\n",
       "      <th>price</th>\n",
       "      <th>id</th>\n",
       "      <th>developer</th>\n",
       "    </tr>\n",
       "    <tr>\n",
       "      <th>index</th>\n",
       "      <th></th>\n",
       "      <th></th>\n",
       "      <th></th>\n",
       "      <th></th>\n",
       "      <th></th>\n",
       "      <th></th>\n",
       "      <th></th>\n",
       "      <th></th>\n",
       "    </tr>\n",
       "  </thead>\n",
       "  <tbody>\n",
       "    <tr>\n",
       "      <th>88310</th>\n",
       "      <td>Action</td>\n",
       "      <td>Lost Summoner Kitty</td>\n",
       "      <td>http://store.steampowered.com/app/761140/Lost_...</td>\n",
       "      <td>2018-01-04</td>\n",
       "      <td>http://steamcommunity.com/app/761140/reviews/?...</td>\n",
       "      <td>4.99</td>\n",
       "      <td>761140.0</td>\n",
       "      <td>Kotoshiro</td>\n",
       "    </tr>\n",
       "    <tr>\n",
       "      <th>88310</th>\n",
       "      <td>Casual</td>\n",
       "      <td>Lost Summoner Kitty</td>\n",
       "      <td>http://store.steampowered.com/app/761140/Lost_...</td>\n",
       "      <td>2018-01-04</td>\n",
       "      <td>http://steamcommunity.com/app/761140/reviews/?...</td>\n",
       "      <td>4.99</td>\n",
       "      <td>761140.0</td>\n",
       "      <td>Kotoshiro</td>\n",
       "    </tr>\n",
       "    <tr>\n",
       "      <th>88310</th>\n",
       "      <td>Indie</td>\n",
       "      <td>Lost Summoner Kitty</td>\n",
       "      <td>http://store.steampowered.com/app/761140/Lost_...</td>\n",
       "      <td>2018-01-04</td>\n",
       "      <td>http://steamcommunity.com/app/761140/reviews/?...</td>\n",
       "      <td>4.99</td>\n",
       "      <td>761140.0</td>\n",
       "      <td>Kotoshiro</td>\n",
       "    </tr>\n",
       "    <tr>\n",
       "      <th>88310</th>\n",
       "      <td>Simulation</td>\n",
       "      <td>Lost Summoner Kitty</td>\n",
       "      <td>http://store.steampowered.com/app/761140/Lost_...</td>\n",
       "      <td>2018-01-04</td>\n",
       "      <td>http://steamcommunity.com/app/761140/reviews/?...</td>\n",
       "      <td>4.99</td>\n",
       "      <td>761140.0</td>\n",
       "      <td>Kotoshiro</td>\n",
       "    </tr>\n",
       "    <tr>\n",
       "      <th>88310</th>\n",
       "      <td>Strategy</td>\n",
       "      <td>Lost Summoner Kitty</td>\n",
       "      <td>http://store.steampowered.com/app/761140/Lost_...</td>\n",
       "      <td>2018-01-04</td>\n",
       "      <td>http://steamcommunity.com/app/761140/reviews/?...</td>\n",
       "      <td>4.99</td>\n",
       "      <td>761140.0</td>\n",
       "      <td>Kotoshiro</td>\n",
       "    </tr>\n",
       "  </tbody>\n",
       "</table>\n",
       "</div>"
      ],
      "text/plain": [
       "           genres             app_name  \\\n",
       "index                                    \n",
       "88310      Action  Lost Summoner Kitty   \n",
       "88310      Casual  Lost Summoner Kitty   \n",
       "88310       Indie  Lost Summoner Kitty   \n",
       "88310  Simulation  Lost Summoner Kitty   \n",
       "88310    Strategy  Lost Summoner Kitty   \n",
       "\n",
       "                                                     url release_date  \\\n",
       "index                                                                   \n",
       "88310  http://store.steampowered.com/app/761140/Lost_...   2018-01-04   \n",
       "88310  http://store.steampowered.com/app/761140/Lost_...   2018-01-04   \n",
       "88310  http://store.steampowered.com/app/761140/Lost_...   2018-01-04   \n",
       "88310  http://store.steampowered.com/app/761140/Lost_...   2018-01-04   \n",
       "88310  http://store.steampowered.com/app/761140/Lost_...   2018-01-04   \n",
       "\n",
       "                                             reviews_url  price        id  \\\n",
       "index                                                                       \n",
       "88310  http://steamcommunity.com/app/761140/reviews/?...   4.99  761140.0   \n",
       "88310  http://steamcommunity.com/app/761140/reviews/?...   4.99  761140.0   \n",
       "88310  http://steamcommunity.com/app/761140/reviews/?...   4.99  761140.0   \n",
       "88310  http://steamcommunity.com/app/761140/reviews/?...   4.99  761140.0   \n",
       "88310  http://steamcommunity.com/app/761140/reviews/?...   4.99  761140.0   \n",
       "\n",
       "       developer  \n",
       "index             \n",
       "88310  Kotoshiro  \n",
       "88310  Kotoshiro  \n",
       "88310  Kotoshiro  \n",
       "88310  Kotoshiro  \n",
       "88310  Kotoshiro  "
      ]
     },
     "execution_count": 40,
     "metadata": {},
     "output_type": "execute_result"
    }
   ],
   "source": [
    "df_games.head()"
   ]
  },
  {
   "cell_type": "code",
   "execution_count": 41,
   "metadata": {},
   "outputs": [
    {
     "name": "stdout",
     "output_type": "stream",
     "text": [
      "se obsevan:  31099  juegos unicos\n"
     ]
    }
   ],
   "source": [
    "# vemos la cantidad de juegos unicos\n",
    "games_unique = len(df_games['id'].unique()) #con esto obtenemos la cantidad de juegos unicos\n",
    "print('se obsevan: ',games_unique, ' juegos unicos')"
   ]
  },
  {
   "cell_type": "code",
   "execution_count": 42,
   "metadata": {},
   "outputs": [
    {
     "data": {
      "text/plain": [
       "developer\n",
       "Valor no disponible        6053\n",
       "Ubisoft - San Francisco    2516\n",
       "SmiteWorks USA, LLC        2364\n",
       "DL Softworks                427\n",
       "Ronimo Games                371\n",
       "                           ... \n",
       "BusTrainz                     1\n",
       "Heroic Games                  1\n",
       "Ryan Davis                    1\n",
       "内购人生                          1\n",
       "Fuyu Games AB                 1\n",
       "Name: count, Length: 10931, dtype: int64"
      ]
     },
     "execution_count": 42,
     "metadata": {},
     "output_type": "execute_result"
    }
   ],
   "source": [
    "# aca vemos la cantidad de juegos por desarrollador\n",
    "developers = df_games['developer'].value_counts() #obtenemos la cantidad de jeugos por desarrollador\n",
    "developers"
   ]
  },
  {
   "cell_type": "code",
   "execution_count": 43,
   "metadata": {},
   "outputs": [
    {
     "data": {
      "text/plain": [
       "release_date\n",
       "Valor no disponible    5437\n",
       "2017-12-15              203\n",
       "2017-08-31              200\n",
       "2017-08-22              199\n",
       "2017-11-17              198\n",
       "                       ... \n",
       "2012-06-10                1\n",
       "2008-02-22                1\n",
       "2012-10-20                1\n",
       "2005-08-09                1\n",
       "2008-08-27                1\n",
       "Name: count, Length: 3451, dtype: int64"
      ]
     },
     "execution_count": 43,
     "metadata": {},
     "output_type": "execute_result"
    }
   ],
   "source": [
    "# vemos cuantos juegos hay por su año de lanzamiento\n",
    "games_years = df_games['release_date'].value_counts()\n",
    "games_years"
   ]
  },
  {
   "cell_type": "markdown",
   "metadata": {},
   "source": [
    "seguimos con el archivo de items"
   ]
  },
  {
   "cell_type": "code",
   "execution_count": 48,
   "metadata": {},
   "outputs": [
    {
     "name": "stdout",
     "output_type": "stream",
     "text": [
      "<class 'pandas.core.frame.DataFrame'>\n",
      "Index: 5094105 entries, 0 to 5153208\n",
      "Data columns (total 7 columns):\n",
      " #   Column            Dtype \n",
      "---  ------            ----- \n",
      " 0   item_id           object\n",
      " 1   item_name         object\n",
      " 2   playtime_forever  int64 \n",
      " 3   steam_id          object\n",
      " 4   items_count       int64 \n",
      " 5   user_id           object\n",
      " 6   user_url          object\n",
      "dtypes: int64(2), object(5)\n",
      "memory usage: 310.9+ MB\n"
     ]
    }
   ],
   "source": [
    "df_items.info()"
   ]
  },
  {
   "cell_type": "code",
   "execution_count": 49,
   "metadata": {},
   "outputs": [
    {
     "data": {
      "text/plain": [
       "item_id             0\n",
       "item_name           0\n",
       "playtime_forever    0\n",
       "steam_id            0\n",
       "items_count         0\n",
       "user_id             0\n",
       "user_url            0\n",
       "dtype: int64"
      ]
     },
     "execution_count": 49,
     "metadata": {},
     "output_type": "execute_result"
    }
   ],
   "source": [
    "# vemos los nulos en los datos\n",
    "df_items.isnull().sum()"
   ]
  },
  {
   "cell_type": "code",
   "execution_count": 52,
   "metadata": {},
   "outputs": [
    {
     "name": "stdout",
     "output_type": "stream",
     "text": [
      "se obsevan:  10947  juegos unicos\n"
     ]
    }
   ],
   "source": [
    "#vemos la cantidad de juegos en el dataframe\n",
    "games_unique = len(df_items['item_name'].unique())\n",
    "print('se obsevan: ',games_unique, ' juegos unicos')"
   ]
  },
  {
   "cell_type": "code",
   "execution_count": 53,
   "metadata": {},
   "outputs": [
    {
     "data": {
      "text/plain": [
       "item_name\n",
       "Dota 2 Test                               49136\n",
       "Counter-Strike: Global Offensive          43336\n",
       "Garry's Mod                               42849\n",
       "Unturned                                  38278\n",
       "Left 4 Dead 2 Beta                        36661\n",
       "                                          ...  \n",
       "Preston Sterling                              1\n",
       "Happy Town People                             1\n",
       "Kapsul Infinite                               1\n",
       "Warhammer 40,000: Armageddon - Da Orks        1\n",
       "Arachnophobia                                 1\n",
       "Name: count, Length: 10947, dtype: int64"
      ]
     },
     "execution_count": 53,
     "metadata": {},
     "output_type": "execute_result"
    }
   ],
   "source": [
    "#vemos la cantidad de juegos por nombre\n",
    "games = df_items['item_name'].value_counts()\n",
    "games"
   ]
  },
  {
   "cell_type": "markdown",
   "metadata": {},
   "source": [
    "seguimos ahora con el dataset de reviews"
   ]
  },
  {
   "cell_type": "code",
   "execution_count": 54,
   "metadata": {},
   "outputs": [
    {
     "name": "stdout",
     "output_type": "stream",
     "text": [
      "<class 'pandas.core.frame.DataFrame'>\n",
      "Index: 57397 entries, 0 to 231501\n",
      "Data columns (total 6 columns):\n",
      " #   Column              Non-Null Count  Dtype \n",
      "---  ------              --------------  ----- \n",
      " 0   user_id             57397 non-null  object\n",
      " 1   user_url            57397 non-null  object\n",
      " 2   reviews_item_id     57397 non-null  object\n",
      " 3   reviews_helpful     57397 non-null  object\n",
      " 4   reviews_recommend   57397 non-null  bool  \n",
      " 5   sentiment_analysis  57397 non-null  int64 \n",
      "dtypes: bool(1), int64(1), object(4)\n",
      "memory usage: 2.7+ MB\n"
     ]
    }
   ],
   "source": [
    "#vemos la informacion de las columnas del dataframe\n",
    "df_reviews.info()"
   ]
  },
  {
   "cell_type": "code",
   "execution_count": 55,
   "metadata": {},
   "outputs": [
    {
     "data": {
      "text/plain": [
       "user_id               0\n",
       "user_url              0\n",
       "reviews_item_id       0\n",
       "reviews_helpful       0\n",
       "reviews_recommend     0\n",
       "sentiment_analysis    0\n",
       "dtype: int64"
      ]
     },
     "execution_count": 55,
     "metadata": {},
     "output_type": "execute_result"
    }
   ],
   "source": [
    "# vemos la cantidad de nulos \n",
    "df_reviews.isnull().sum() "
   ]
  },
  {
   "cell_type": "code",
   "execution_count": 59,
   "metadata": {},
   "outputs": [
    {
     "name": "stdout",
     "output_type": "stream",
     "text": [
      "se observan: 25143 usuarios distintos que hallan escrito reviews\n"
     ]
    }
   ],
   "source": [
    "#Vemos la cantidad de usuarios que dejaron reviews\n",
    "user_unique= len(df_reviews['user_id'].unique())\n",
    "print('se observan:',user_unique,'usuarios distintos que hallan escrito reviews')"
   ]
  },
  {
   "cell_type": "code",
   "execution_count": 61,
   "metadata": {},
   "outputs": [
    {
     "data": {
      "text/plain": [
       "reviews_recommend\n",
       "True     50778\n",
       "False     6619\n",
       "Name: count, dtype: int64"
      ]
     },
     "execution_count": 61,
     "metadata": {},
     "output_type": "execute_result"
    }
   ],
   "source": [
    "#vemos la cantidad de recomendaciones hechas\n",
    "write_reviews = df_reviews['reviews_recommend'].value_counts()\n",
    "write_reviews\n",
    "#se observan 50778 reviews escritas"
   ]
  },
  {
   "cell_type": "code",
   "execution_count": 62,
   "metadata": {},
   "outputs": [
    {
     "data": {
      "text/plain": [
       "sentiment_analysis\n",
       "1    35271\n",
       "2    17100\n",
       "0     5026\n",
       "Name: count, dtype: int64"
      ]
     },
     "execution_count": 62,
     "metadata": {},
     "output_type": "execute_result"
    }
   ],
   "source": [
    "#vemos el conteo del analisis de sentimiento para cada caso\n",
    "sentiment_analysis = df_reviews['sentiment_analysis'].value_counts()\n",
    "sentiment_analysis\n",
    "# esto señala que hicieron: (2) 17100 reviews positivas\n",
    "#                           (1) 35271 review neutras   \n",
    "#                           (0) 5026 reviews negativas"
   ]
  }
 ],
 "metadata": {
  "kernelspec": {
   "display_name": "Python 3",
   "language": "python",
   "name": "python3"
  },
  "language_info": {
   "codemirror_mode": {
    "name": "ipython",
    "version": 3
   },
   "file_extension": ".py",
   "mimetype": "text/x-python",
   "name": "python",
   "nbconvert_exporter": "python",
   "pygments_lexer": "ipython3",
   "version": "3.11.6"
  }
 },
 "nbformat": 4,
 "nbformat_minor": 2
}
